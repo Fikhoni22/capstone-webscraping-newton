{
 "cells": [
  {
   "cell_type": "markdown",
   "metadata": {},
   "source": [
    "# Capstone Webscrapping using BeautifulSoup\n",
    "\n",
    "This notebook contains scrapping data from USD to IDR exchange rate summary for 6 last month.\n",
    "\n",
    "## A. Background\n",
    "\n",
    "Projek ini memiliki tujuan untuk melakukan scraping terhadap nilai tukar USD ke dalam IDR. Terdapat dua kelompok data yang akan di-*scraping*, yaitu tanggal dan harga tukar USD ke Rp.  Rentang waktu yang dipilih merupakan update dari 6 bulan terakhir. terhitung sejak dilakukan penarikan data, yaitu mulai dari bulan Oktober 2022 hingga awal April 2023.  \n",
    "\n",
    "## B. Requesting the Data and Creating a BeautifulSoup\n",
    "\n",
    "Let's begin with requesting the web from the site with `get` method."
   ]
  },
  {
   "cell_type": "code",
   "execution_count": 1,
   "metadata": {
    "ExecuteTime": {
     "end_time": "2020-01-13T05:12:23.275508Z",
     "start_time": "2020-01-13T05:12:20.009898Z"
    }
   },
   "outputs": [],
   "source": [
    "import requests\n",
    "\n",
    "url_get = requests.get('https://www.exchange-rates.org/history/IDR/USD/T')"
   ]
  },
  {
   "cell_type": "markdown",
   "metadata": {},
   "source": [
    "To visualize what exactly you get from the `request.get`, we can use .content so ee what we exactly get, in here i slice it so it won't make our screen full of the html we get from the page. You can delete the slicing if you want to see what we fully get."
   ]
  },
  {
   "cell_type": "code",
   "execution_count": 2,
   "metadata": {
    "ExecuteTime": {
     "end_time": "2020-01-13T05:12:23.290648Z",
     "start_time": "2020-01-13T05:12:23.277650Z"
    }
   },
   "outputs": [
    {
     "data": {
      "text/plain": [
       "b'!DOCTYPE html>\\r\\n<!--[if lt IE 9]>\\r\\n<html class=\"no-js ie8 oldie\" lang=\"en\" xml:lang=\\'en\\'>\\r\\n<![endif]-->\\r\\n<!--[if gt IE 8]><!--><html class=\"no-js\" lang=\"en\" xml:lang=\\'en\\'><!--<![endif]-->\\r\\n<head>\\r\\n<title>USD to IDR exchange rate history</title>\\r\\n<meta http-equiv=\"X-UA-Compatible\" content=\"IE=edge\">\\r\\n<meta name=\"viewport\" content=\"width=device-width, initial-scale=1, maximum-scale=5\">\\r\\n<meta charset=\"utf-8\" /><meta http-equiv=\"Content-Type\" content=\"text/html; charset=utf-8\" />\\r\\n<base href=\"http'"
      ]
     },
     "execution_count": 2,
     "metadata": {},
     "output_type": "execute_result"
    }
   ],
   "source": [
    "url_get.content[1:500]"
   ]
  },
  {
   "cell_type": "markdown",
   "metadata": {},
   "source": [
    "As we can see we get a very unstructured and complex html, which actually contains the codes needed to show the webpages on your web browser. But we as human still confused what and where we can use that piece of code, so here where we use the beautifulsoup. Beautiful soup class will result a beautifulsoup object. Beautiful Soup transforms a complex HTML document into a complex tree of Python objects. \n",
    "\n",
    "Let's make Beautiful soup object and feel free to explore the object here."
   ]
  },
  {
   "cell_type": "code",
   "execution_count": 3,
   "metadata": {
    "ExecuteTime": {
     "end_time": "2020-01-13T05:12:23.808122Z",
     "start_time": "2020-01-13T05:12:23.292610Z"
    }
   },
   "outputs": [
    {
     "name": "stdout",
     "output_type": "stream",
     "text": [
      "<!DOCTYPE html>\n",
      "<!--[if lt IE 9]>\r\n",
      "<html class=\"no-js ie8 oldie\" lang=\"en\" xml:lang='en'>\r\n",
      "<![endif]-->\n",
      "<!--[if gt IE 8]><!-->\n",
      "<html class=\"no-js\" lang=\"en\" xml:lang=\"en\">\n",
      " <!--<![endif]-->\n",
      " <head>\n",
      "  <title>\n",
      "   USD to IDR exchange rate history\n",
      "  </title>\n",
      "  <meta content=\"IE=edge\" http-equiv=\"X-UA-Compatible\"/>\n",
      "  <meta content=\"width=device-width, initial-scale=1, maximum-scale=5\" name=\"viewport\"/>\n",
      "  <meta charset=\"utf-8\">\n",
      "   <meta content=\"text/html; charset=utf-8\" http-equiv=\"Content-Type\">\n",
      "   \n"
     ]
    }
   ],
   "source": [
    "from bs4 import BeautifulSoup \n",
    "\n",
    "soup = BeautifulSoup(url_get.content,\"html.parser\")\n",
    "print(soup.prettify()[:500])"
   ]
  },
  {
   "cell_type": "markdown",
   "metadata": {},
   "source": [
    "## C. Finding the right key to scrap the data & Extracting the right information"
   ]
  },
  {
   "cell_type": "markdown",
   "metadata": {},
   "source": [
    "**Finding Key**"
   ]
  },
  {
   "cell_type": "markdown",
   "metadata": {},
   "source": [
    "\n",
    "\n",
    "<img src=\"asset/Gambar1.PNG\">\n",
    "\n",
    "\n"
   ]
  },
  {
   "cell_type": "markdown",
   "metadata": {},
   "source": [
    "Find the key and put the key into the `.find()` Put all the exploring the right key at this cell. \n",
    "\n",
    "Setelah inspect elemen, dapat terlihat bahwa tabel tersebut berada dalam `<tbody>`."
   ]
  },
  {
   "cell_type": "code",
   "execution_count": 4,
   "metadata": {
    "ExecuteTime": {
     "end_time": "2020-01-13T05:12:23.878904Z",
     "start_time": "2020-01-13T05:12:23.854974Z"
    }
   },
   "outputs": [
    {
     "name": "stdout",
     "output_type": "stream",
     "text": [
      "tbody>\n",
      " <tr>\n",
      "  <td>\n",
      "   <a class=\"w\" href=\"/exchange-rate-history/usd-idr-2023-04-11\">\n",
      "    April 11, 2023\n",
      "   </a>\n",
      "   <a class=\"n\" href=\"/exchange-rate-history/usd-idr-2023-04-11\">\n",
      "    2023-4-11\n",
      "   </a>\n",
      "  </td>\n",
      "  <td>\n",
      "   <span class=\"w\">\n",
      "    <span class=\"nowrap\">\n",
      "     <span class=\"currencySymbol\">\n",
      "      $\n",
      "     </span>\n",
      "     1 =\n",
      "    </span>\n",
      "    <span class=\"nowrap\">\n",
      "     <span class=\"currencySymbol\">\n",
      "      Rp\n",
      "     </span>\n",
      "     14,915\n",
      "    </span>\n",
      "   </span>\n",
      "   <span class=\"n\">\n",
      "    <span class=\"nowrap\">\n",
      "     <span class=\"currencySymbol\">\n",
      "      $\n",
      "     </span>\n",
      "     1 =\n",
      "    </span>\n",
      "    <span class=\"nowrap\">\n",
      "     <span class=\"currencySymbol\">\n",
      "      Rp\n",
      "     </span>\n",
      "     14,915\n",
      "    </span>\n",
      "   </span>\n",
      "  </td>\n",
      " </tr>\n",
      " <tr class=\"odd\">\n",
      "  <td>\n",
      "   <a class=\"w\" href=\"/exchange-rate-history/usd-idr-2023-04-10\">\n",
      "    April 10, 2023\n",
      "   </a>\n",
      "   <a class=\"n\" href=\"/exchange-rate-history/usd-idr-2023-04-10\">\n",
      "    2023-4-10\n",
      "   </a>\n",
      "  </td>\n",
      "  <td>\n",
      "   <span class=\"w\">\n",
      "    <span class=\"nowrap\">\n",
      "     <span class=\"currencySymbol\">\n",
      "      $\n",
      "     </span>\n",
      "     1 =\n",
      "    </span>\n",
      "    <span class=\"nowrap\">\n",
      "     <span class=\"currencySymbol\">\n",
      "      Rp\n",
      "     </span>\n",
      "     14,950\n",
      "    </span>\n",
      "   </span>\n",
      "   <span class=\"n\">\n",
      "    <span class=\"nowrap\">\n",
      "     <span class=\"currencySymbol\">\n",
      "      $\n",
      "     </span>\n",
      "     1 =\n",
      "    </span>\n",
      "    <span class=\"nowrap\">\n",
      "     <span class=\"currencySymbol\">\n",
      "      Rp\n",
      "     </span>\n",
      "     14,950\n",
      "    </span>\n",
      "   </span>\n",
      "  </td>\n",
      " </tr>\n",
      " <tr>\n",
      "  <td>\n",
      "   <a class=\"w\" href=\"/exchange-rate-history/usd-idr-2023-04-07\">\n",
      "    April 7, 2023\n",
      "   </a>\n",
      "   <a class=\"n\" href=\"/exchange-rate-history/usd-idr-2023-04-07\">\n",
      "    2023-4-7\n",
      "   </a>\n",
      "  </td>\n",
      "  <td>\n",
      "   <span class=\"w\">\n",
      "    <span class=\"nowrap\">\n",
      "     <span class=\"currencySymbol\">\n",
      "      $\n",
      "     </span>\n",
      "     1 =\n",
      "    </span>\n",
      "    <span class=\"nowrap\">\n",
      "     <span class=\"currencySymbol\">\n",
      "      Rp\n",
      "     </span>\n",
      "     14,941\n",
      "    </span>\n",
      "   </span>\n",
      "   <span class=\"n\">\n",
      "    <span class=\"nowrap\">\n",
      "     <span class=\"currencySymbol\">\n",
      "      $\n",
      "     </span>\n",
      "     1 =\n",
      "    </spa\n"
     ]
    }
   ],
   "source": [
    "table = soup.find('tbody')\n",
    "print(table.prettify()[1:2000])"
   ]
  },
  {
   "cell_type": "markdown",
   "metadata": {},
   "source": [
    "pemilihan key untuk waktu adalah 'a'. Waktu yang dihasilkan duplikat hanya berbeda format penulisannya saja. "
   ]
  },
  {
   "cell_type": "code",
   "execution_count": 5,
   "metadata": {},
   "outputs": [
    {
     "data": {
      "text/plain": [
       "[<a class=\"w\" href=\"/exchange-rate-history/usd-idr-2023-04-11\">April 11, 2023</a>,\n",
       " <a class=\"n\" href=\"/exchange-rate-history/usd-idr-2023-04-11\">2023-4-11</a>,\n",
       " <a class=\"w\" href=\"/exchange-rate-history/usd-idr-2023-04-10\">April 10, 2023</a>,\n",
       " <a class=\"n\" href=\"/exchange-rate-history/usd-idr-2023-04-10\">2023-4-10</a>,\n",
       " <a class=\"w\" href=\"/exchange-rate-history/usd-idr-2023-04-07\">April 7, 2023</a>,\n",
       " <a class=\"n\" href=\"/exchange-rate-history/usd-idr-2023-04-07\">2023-4-7</a>,\n",
       " <a class=\"w\" href=\"/exchange-rate-history/usd-idr-2023-04-06\">April 6, 2023</a>,\n",
       " <a class=\"n\" href=\"/exchange-rate-history/usd-idr-2023-04-06\">2023-4-6</a>,\n",
       " <a class=\"w\" href=\"/exchange-rate-history/usd-idr-2023-04-05\">April 5, 2023</a>,\n",
       " <a class=\"n\" href=\"/exchange-rate-history/usd-idr-2023-04-05\">2023-4-5</a>]"
      ]
     },
     "execution_count": 5,
     "metadata": {},
     "output_type": "execute_result"
    }
   ],
   "source": [
    "table.find_all('a')[:10]"
   ]
  },
  {
   "cell_type": "markdown",
   "metadata": {},
   "source": [
    "Sedangkan key untuk harga tukar USD adalah 'span'. "
   ]
  },
  {
   "cell_type": "code",
   "execution_count": 6,
   "metadata": {},
   "outputs": [
    {
     "data": {
      "text/plain": [
       "[<span class=\"w\"><span class=\"nowrap\"><span class=\"currencySymbol\">$</span>1 =</span> <span class=\"nowrap\"><span class=\"currencySymbol\">Rp</span>14,915</span></span>,\n",
       " <span class=\"nowrap\"><span class=\"currencySymbol\">$</span>1 =</span>,\n",
       " <span class=\"currencySymbol\">$</span>,\n",
       " <span class=\"nowrap\"><span class=\"currencySymbol\">Rp</span>14,915</span>,\n",
       " <span class=\"currencySymbol\">Rp</span>,\n",
       " <span class=\"n\"><span class=\"nowrap\"><span class=\"currencySymbol\">$</span>1 =</span> <span class=\"nowrap\"><span class=\"currencySymbol\">Rp</span>14,915</span></span>,\n",
       " <span class=\"nowrap\"><span class=\"currencySymbol\">$</span>1 =</span>,\n",
       " <span class=\"currencySymbol\">$</span>,\n",
       " <span class=\"nowrap\"><span class=\"currencySymbol\">Rp</span>14,915</span>,\n",
       " <span class=\"currencySymbol\">Rp</span>]"
      ]
     },
     "execution_count": 6,
     "metadata": {},
     "output_type": "execute_result"
    }
   ],
   "source": [
    "table.find_all('span')[:10] "
   ]
  },
  {
   "cell_type": "markdown",
   "metadata": {},
   "source": [
    "Namun karena masih belum spesifik. maka memerlukan atribut tambahan."
   ]
  },
  {
   "cell_type": "code",
   "execution_count": 7,
   "metadata": {},
   "outputs": [
    {
     "data": {
      "text/plain": [
       "[<span class=\"nowrap\"><span class=\"currencySymbol\">$</span>1 =</span>,\n",
       " <span class=\"nowrap\"><span class=\"currencySymbol\">Rp</span>14,915</span>,\n",
       " <span class=\"nowrap\"><span class=\"currencySymbol\">$</span>1 =</span>,\n",
       " <span class=\"nowrap\"><span class=\"currencySymbol\">Rp</span>14,915</span>,\n",
       " <span class=\"nowrap\"><span class=\"currencySymbol\">$</span>1 =</span>,\n",
       " <span class=\"nowrap\"><span class=\"currencySymbol\">Rp</span>14,950</span>,\n",
       " <span class=\"nowrap\"><span class=\"currencySymbol\">$</span>1 =</span>,\n",
       " <span class=\"nowrap\"><span class=\"currencySymbol\">Rp</span>14,950</span>,\n",
       " <span class=\"nowrap\"><span class=\"currencySymbol\">$</span>1 =</span>,\n",
       " <span class=\"nowrap\"><span class=\"currencySymbol\">Rp</span>14,941</span>]"
      ]
     },
     "execution_count": 7,
     "metadata": {},
     "output_type": "execute_result"
    }
   ],
   "source": [
    "table.find_all('span', attrs = {'class':'nowrap'})[:10]"
   ]
  },
  {
   "cell_type": "markdown",
   "metadata": {},
   "source": [
    "sebenarnya, hasil dari penambahan attribut masih belum spesifik karena terdapat informasi yang tidak diperlukan ikut terpanggil. Selain itu, jika diperhatikan data juga bersifat duplikat. Hal ini akan diatasi pada proses looping.\n"
   ]
  },
  {
   "cell_type": "markdown",
   "metadata": {},
   "source": [
    "**Finding row length**"
   ]
  },
  {
   "cell_type": "markdown",
   "metadata": {},
   "source": [
    "Dalam proses looping, tentunya perlu memerhatikan panjang baris. "
   ]
  },
  {
   "cell_type": "code",
   "execution_count": 8,
   "metadata": {},
   "outputs": [
    {
     "data": {
      "text/plain": [
       "259"
      ]
     },
     "execution_count": 8,
     "metadata": {},
     "output_type": "execute_result"
    }
   ],
   "source": [
    "len(table.find_all('a'))"
   ]
  },
  {
   "cell_type": "markdown",
   "metadata": {},
   "source": [
    "untuk tanggal, panjang data memiliki nilai ganjil. sedangkan seharusnya bernilai genap. karena data bersifat duplikat. perlu dicek, apakah terdapat informasi yang tidak diperlukan ikut terpanggil lagi."
   ]
  },
  {
   "cell_type": "code",
   "execution_count": 9,
   "metadata": {},
   "outputs": [
    {
     "data": {
      "text/plain": [
       "<a class=\"btn\" href=\"/HistoryExchangeRatesReportDownload.aspx?base_iso_code=USD&amp;iso_code=IDR\">Download History</a>"
      ]
     },
     "execution_count": 9,
     "metadata": {},
     "output_type": "execute_result"
    }
   ],
   "source": [
    "table.find_all('a')[len(table.find_all('a'))-1]"
   ]
  },
  {
   "cell_type": "markdown",
   "metadata": {},
   "source": [
    "Yapp.. benar ternyata. terdapat informasi yang tidak dibutuhkan namun ikut terpanggil. dan ini berada di baris terakhir. sehingga kita bisa mengabaikan data tersebut dengan mengurangi satu baris dari panjang baris yang sebenarnya. Selanjutnya mari kita cek panjang baris milik data harga USD. "
   ]
  },
  {
   "cell_type": "code",
   "execution_count": 10,
   "metadata": {},
   "outputs": [
    {
     "data": {
      "text/plain": [
       "516"
      ]
     },
     "execution_count": 10,
     "metadata": {},
     "output_type": "execute_result"
    }
   ],
   "source": [
    "len(table.find_all('span', attrs = {'class':'nowrap'}))"
   ]
  },
  {
   "cell_type": "markdown",
   "metadata": {},
   "source": [
    "panjang baris dua kali dari panjang baris milik tanggal. berarti datanya sudah sesuai. sehingga kita bisa mengambil panjang baris milik data tanggal. "
   ]
  },
  {
   "cell_type": "code",
   "execution_count": 11,
   "metadata": {},
   "outputs": [
    {
     "data": {
      "text/plain": [
       "258"
      ]
     },
     "execution_count": 11,
     "metadata": {},
     "output_type": "execute_result"
    }
   ],
   "source": [
    "row = table.find_all('a')\n",
    "row_length = len(row)-1  #jangan lupa dikurangi satu karena informasi dari baris terakhir tidak diperlukan\n",
    "row_length"
   ]
  },
  {
   "cell_type": "markdown",
   "metadata": {},
   "source": [
    "**Scraping process**"
   ]
  },
  {
   "cell_type": "markdown",
   "metadata": {},
   "source": [
    "Pada proses looping ini, pengambilan baris pada data tanggal dengan step 2. sedangkan pada data harga USD dengan step 4. Jika diperhartikan. \n",
    "\n",
    "loop 1 => baris 1 pada `date`, maka baris 1 pada `rupiah`. \n",
    "\n",
    "loop 2 => baris 3 pada `date`, maka baris 5 pada `rupiah`\n",
    "\n",
    "loop 3 => baris 5 pada `date`, maka baris 9 pada `rupiah`\n",
    "\n",
    "...\n",
    "\n",
    "...\n",
    "\n",
    "...\n",
    "\n",
    "loop ...=> bari i pada `date`, maka baris `2*i - 1` pada `rupiah`. \n",
    "\n",
    "\n",
    "pola tersebut yang akan digunakan untuk proses looping."
   ]
  },
  {
   "cell_type": "code",
   "execution_count": 12,
   "metadata": {},
   "outputs": [
    {
     "data": {
      "text/plain": [
       "[('2023-4-11', 'Rp14,915'),\n",
       " ('2023-4-10', 'Rp14,950'),\n",
       " ('2023-4-7', 'Rp14,941'),\n",
       " ('2023-4-6', 'Rp14,931'),\n",
       " ('2023-4-5', 'Rp14,960'),\n",
       " ('2023-4-4', 'Rp14,957'),\n",
       " ('2023-4-3', 'Rp14,922'),\n",
       " ('2023-3-31', 'Rp14,969'),\n",
       " ('2023-3-30', 'Rp15,024'),\n",
       " ('2023-3-29', 'Rp15,034'),\n",
       " ('2023-3-28', 'Rp15,060'),\n",
       " ('2023-3-27', 'Rp15,107'),\n",
       " ('2023-3-24', 'Rp15,165'),\n",
       " ('2023-3-23', 'Rp15,085'),\n",
       " ('2023-3-22', 'Rp15,253'),\n",
       " ('2023-3-21', 'Rp15,301'),\n",
       " ('2023-3-20', 'Rp15,343'),\n",
       " ('2023-3-17', 'Rp15,375'),\n",
       " ('2023-3-16', 'Rp15,429'),\n",
       " ('2023-3-15', 'Rp15,459'),\n",
       " ('2023-3-14', 'Rp15,380'),\n",
       " ('2023-3-13', 'Rp15,416'),\n",
       " ('2023-3-10', 'Rp15,503'),\n",
       " ('2023-3-9', 'Rp15,495'),\n",
       " ('2023-3-8', 'Rp15,449'),\n",
       " ('2023-3-7', 'Rp15,429'),\n",
       " ('2023-3-6', 'Rp15,354'),\n",
       " ('2023-3-3', 'Rp15,278'),\n",
       " ('2023-3-2', 'Rp15,322'),\n",
       " ('2023-3-1', 'Rp15,249'),\n",
       " ('2023-2-28', 'Rp15,241'),\n",
       " ('2023-2-27', 'Rp15,216'),\n",
       " ('2023-2-24', 'Rp15,265'),\n",
       " ('2023-2-23', 'Rp15,211'),\n",
       " ('2023-2-22', 'Rp15,197'),\n",
       " ('2023-2-21', 'Rp15,235'),\n",
       " ('2023-2-20', 'Rp15,168'),\n",
       " ('2023-2-17', 'Rp15,166'),\n",
       " ('2023-2-16', 'Rp15,144'),\n",
       " ('2023-2-15', 'Rp15,205'),\n",
       " ('2023-2-14', 'Rp15,186'),\n",
       " ('2023-2-13', 'Rp15,216'),\n",
       " ('2023-2-10', 'Rp15,188'),\n",
       " ('2023-2-9', 'Rp15,147'),\n",
       " ('2023-2-8', 'Rp15,133'),\n",
       " ('2023-2-7', 'Rp15,154'),\n",
       " ('2023-2-6', 'Rp15,198'),\n",
       " ('2023-2-3', 'Rp15,095'),\n",
       " ('2023-2-2', 'Rp14,907'),\n",
       " ('2023-2-1', 'Rp14,896'),\n",
       " ('2023-1-31', 'Rp15,002'),\n",
       " ('2023-1-30', 'Rp15,013'),\n",
       " ('2023-1-27', 'Rp14,973'),\n",
       " ('2023-1-26', 'Rp14,955'),\n",
       " ('2023-1-25', 'Rp14,940'),\n",
       " ('2023-1-24', 'Rp14,956'),\n",
       " ('2023-1-23', 'Rp15,026'),\n",
       " ('2023-1-20', 'Rp15,063'),\n",
       " ('2023-1-19', 'Rp15,154'),\n",
       " ('2023-1-18', 'Rp15,138'),\n",
       " ('2023-1-17', 'Rp15,180'),\n",
       " ('2023-1-16', 'Rp15,126'),\n",
       " ('2023-1-13', 'Rp15,115'),\n",
       " ('2023-1-12', 'Rp15,206'),\n",
       " ('2023-1-11', 'Rp15,432'),\n",
       " ('2023-1-10', 'Rp15,536'),\n",
       " ('2023-1-9', 'Rp15,596'),\n",
       " ('2023-1-6', 'Rp15,607'),\n",
       " ('2023-1-5', 'Rp15,635'),\n",
       " ('2023-1-4', 'Rp15,582'),\n",
       " ('2023-1-3', 'Rp15,594'),\n",
       " ('2023-1-2', 'Rp15,554'),\n",
       " ('2022-12-30', 'Rp15,534'),\n",
       " ('2022-12-29', 'Rp15,627'),\n",
       " ('2022-12-28', 'Rp15,789'),\n",
       " ('2022-12-27', 'Rp15,620'),\n",
       " ('2022-12-26', 'Rp15,621'),\n",
       " ('2022-12-23', 'Rp15,582'),\n",
       " ('2022-12-22', 'Rp15,574'),\n",
       " ('2022-12-21', 'Rp15,540'),\n",
       " ('2022-12-20', 'Rp15,564'),\n",
       " ('2022-12-19', 'Rp15,568'),\n",
       " ('2022-12-16', 'Rp15,616'),\n",
       " ('2022-12-15', 'Rp15,629'),\n",
       " ('2022-12-14', 'Rp15,543'),\n",
       " ('2022-12-13', 'Rp15,560'),\n",
       " ('2022-12-12', 'Rp15,676'),\n",
       " ('2022-12-9', 'Rp15,604'),\n",
       " ('2022-12-8', 'Rp15,594'),\n",
       " ('2022-12-7', 'Rp15,612'),\n",
       " ('2022-12-6', 'Rp15,625'),\n",
       " ('2022-12-5', 'Rp15,520'),\n",
       " ('2022-12-2', 'Rp15,376'),\n",
       " ('2022-12-1', 'Rp15,389'),\n",
       " ('2022-11-30', 'Rp15,633'),\n",
       " ('2022-11-29', 'Rp15,734'),\n",
       " ('2022-11-28', 'Rp15,743'),\n",
       " ('2022-11-25', 'Rp15,693'),\n",
       " ('2022-11-24', 'Rp15,647'),\n",
       " ('2022-11-23', 'Rp15,626'),\n",
       " ('2022-11-22', 'Rp15,664'),\n",
       " ('2022-11-21', 'Rp15,741'),\n",
       " ('2022-11-18', 'Rp15,641'),\n",
       " ('2022-11-17', 'Rp15,714'),\n",
       " ('2022-11-16', 'Rp15,639'),\n",
       " ('2022-11-15', 'Rp15,557'),\n",
       " ('2022-11-14', 'Rp15,554'),\n",
       " ('2022-11-11', 'Rp15,474'),\n",
       " ('2022-11-10', 'Rp15,520'),\n",
       " ('2022-11-9', 'Rp15,692'),\n",
       " ('2022-11-8', 'Rp15,638'),\n",
       " ('2022-11-7', 'Rp15,685'),\n",
       " ('2022-11-4', 'Rp15,615'),\n",
       " ('2022-11-3', 'Rp15,790'),\n",
       " ('2022-11-2', 'Rp15,685'),\n",
       " ('2022-11-1', 'Rp15,674'),\n",
       " ('2022-10-31', 'Rp15,624'),\n",
       " ('2022-10-28', 'Rp15,557'),\n",
       " ('2022-10-27', 'Rp15,560'),\n",
       " ('2022-10-26', 'Rp15,503'),\n",
       " ('2022-10-25', 'Rp15,533'),\n",
       " ('2022-10-24', 'Rp15,598'),\n",
       " ('2022-10-21', 'Rp15,537'),\n",
       " ('2022-10-20', 'Rp15,562'),\n",
       " ('2022-10-19', 'Rp15,587'),\n",
       " ('2022-10-18', 'Rp15,474'),\n",
       " ('2022-10-17', 'Rp15,441'),\n",
       " ('2022-10-14', 'Rp15,472'),\n",
       " ('2022-10-13', 'Rp15,372')]"
      ]
     },
     "execution_count": 12,
     "metadata": {},
     "output_type": "execute_result"
    }
   ],
   "source": [
    "temp = [] #initiating a tuple\n",
    "\n",
    "for i in range(1, row_length, 2):\n",
    "    #tanggal\n",
    "    date = table.find_all('a')[i].text\n",
    "    #print(date)\n",
    "    \n",
    "    #harga USD dalam rupiah\n",
    "    rupiah = table.find_all('span', attrs = {'class':'nowrap'})[2*i-1].text\n",
    "    #print(rupiah)\n",
    "    temp.append((date,rupiah))\n",
    "\n",
    "    \n",
    "    \n",
    "temp "
   ]
  },
  {
   "cell_type": "markdown",
   "metadata": {},
   "source": [
    "Karena informasi tanggal yang diperoleh terbalik. maka perlu direverse. "
   ]
  },
  {
   "cell_type": "code",
   "execution_count": 13,
   "metadata": {},
   "outputs": [],
   "source": [
    "temp = temp[::-1]"
   ]
  },
  {
   "cell_type": "code",
   "execution_count": 14,
   "metadata": {},
   "outputs": [
    {
     "data": {
      "text/plain": [
       "[('2022-10-13', 'Rp15,372'),\n",
       " ('2022-10-14', 'Rp15,472'),\n",
       " ('2022-10-17', 'Rp15,441'),\n",
       " ('2022-10-18', 'Rp15,474'),\n",
       " ('2022-10-19', 'Rp15,587'),\n",
       " ('2022-10-20', 'Rp15,562'),\n",
       " ('2022-10-21', 'Rp15,537'),\n",
       " ('2022-10-24', 'Rp15,598'),\n",
       " ('2022-10-25', 'Rp15,533'),\n",
       " ('2022-10-26', 'Rp15,503'),\n",
       " ('2022-10-27', 'Rp15,560'),\n",
       " ('2022-10-28', 'Rp15,557'),\n",
       " ('2022-10-31', 'Rp15,624'),\n",
       " ('2022-11-1', 'Rp15,674'),\n",
       " ('2022-11-2', 'Rp15,685'),\n",
       " ('2022-11-3', 'Rp15,790'),\n",
       " ('2022-11-4', 'Rp15,615'),\n",
       " ('2022-11-7', 'Rp15,685'),\n",
       " ('2022-11-8', 'Rp15,638'),\n",
       " ('2022-11-9', 'Rp15,692'),\n",
       " ('2022-11-10', 'Rp15,520'),\n",
       " ('2022-11-11', 'Rp15,474'),\n",
       " ('2022-11-14', 'Rp15,554'),\n",
       " ('2022-11-15', 'Rp15,557'),\n",
       " ('2022-11-16', 'Rp15,639'),\n",
       " ('2022-11-17', 'Rp15,714'),\n",
       " ('2022-11-18', 'Rp15,641'),\n",
       " ('2022-11-21', 'Rp15,741'),\n",
       " ('2022-11-22', 'Rp15,664'),\n",
       " ('2022-11-23', 'Rp15,626'),\n",
       " ('2022-11-24', 'Rp15,647'),\n",
       " ('2022-11-25', 'Rp15,693'),\n",
       " ('2022-11-28', 'Rp15,743'),\n",
       " ('2022-11-29', 'Rp15,734'),\n",
       " ('2022-11-30', 'Rp15,633'),\n",
       " ('2022-12-1', 'Rp15,389'),\n",
       " ('2022-12-2', 'Rp15,376'),\n",
       " ('2022-12-5', 'Rp15,520'),\n",
       " ('2022-12-6', 'Rp15,625'),\n",
       " ('2022-12-7', 'Rp15,612'),\n",
       " ('2022-12-8', 'Rp15,594'),\n",
       " ('2022-12-9', 'Rp15,604'),\n",
       " ('2022-12-12', 'Rp15,676'),\n",
       " ('2022-12-13', 'Rp15,560'),\n",
       " ('2022-12-14', 'Rp15,543'),\n",
       " ('2022-12-15', 'Rp15,629'),\n",
       " ('2022-12-16', 'Rp15,616'),\n",
       " ('2022-12-19', 'Rp15,568'),\n",
       " ('2022-12-20', 'Rp15,564'),\n",
       " ('2022-12-21', 'Rp15,540'),\n",
       " ('2022-12-22', 'Rp15,574'),\n",
       " ('2022-12-23', 'Rp15,582'),\n",
       " ('2022-12-26', 'Rp15,621'),\n",
       " ('2022-12-27', 'Rp15,620'),\n",
       " ('2022-12-28', 'Rp15,789'),\n",
       " ('2022-12-29', 'Rp15,627'),\n",
       " ('2022-12-30', 'Rp15,534'),\n",
       " ('2023-1-2', 'Rp15,554'),\n",
       " ('2023-1-3', 'Rp15,594'),\n",
       " ('2023-1-4', 'Rp15,582'),\n",
       " ('2023-1-5', 'Rp15,635'),\n",
       " ('2023-1-6', 'Rp15,607'),\n",
       " ('2023-1-9', 'Rp15,596'),\n",
       " ('2023-1-10', 'Rp15,536'),\n",
       " ('2023-1-11', 'Rp15,432'),\n",
       " ('2023-1-12', 'Rp15,206'),\n",
       " ('2023-1-13', 'Rp15,115'),\n",
       " ('2023-1-16', 'Rp15,126'),\n",
       " ('2023-1-17', 'Rp15,180'),\n",
       " ('2023-1-18', 'Rp15,138'),\n",
       " ('2023-1-19', 'Rp15,154'),\n",
       " ('2023-1-20', 'Rp15,063'),\n",
       " ('2023-1-23', 'Rp15,026'),\n",
       " ('2023-1-24', 'Rp14,956'),\n",
       " ('2023-1-25', 'Rp14,940'),\n",
       " ('2023-1-26', 'Rp14,955'),\n",
       " ('2023-1-27', 'Rp14,973'),\n",
       " ('2023-1-30', 'Rp15,013'),\n",
       " ('2023-1-31', 'Rp15,002'),\n",
       " ('2023-2-1', 'Rp14,896'),\n",
       " ('2023-2-2', 'Rp14,907'),\n",
       " ('2023-2-3', 'Rp15,095'),\n",
       " ('2023-2-6', 'Rp15,198'),\n",
       " ('2023-2-7', 'Rp15,154'),\n",
       " ('2023-2-8', 'Rp15,133'),\n",
       " ('2023-2-9', 'Rp15,147'),\n",
       " ('2023-2-10', 'Rp15,188'),\n",
       " ('2023-2-13', 'Rp15,216'),\n",
       " ('2023-2-14', 'Rp15,186'),\n",
       " ('2023-2-15', 'Rp15,205'),\n",
       " ('2023-2-16', 'Rp15,144'),\n",
       " ('2023-2-17', 'Rp15,166'),\n",
       " ('2023-2-20', 'Rp15,168'),\n",
       " ('2023-2-21', 'Rp15,235'),\n",
       " ('2023-2-22', 'Rp15,197'),\n",
       " ('2023-2-23', 'Rp15,211'),\n",
       " ('2023-2-24', 'Rp15,265'),\n",
       " ('2023-2-27', 'Rp15,216'),\n",
       " ('2023-2-28', 'Rp15,241'),\n",
       " ('2023-3-1', 'Rp15,249'),\n",
       " ('2023-3-2', 'Rp15,322'),\n",
       " ('2023-3-3', 'Rp15,278'),\n",
       " ('2023-3-6', 'Rp15,354'),\n",
       " ('2023-3-7', 'Rp15,429'),\n",
       " ('2023-3-8', 'Rp15,449'),\n",
       " ('2023-3-9', 'Rp15,495'),\n",
       " ('2023-3-10', 'Rp15,503'),\n",
       " ('2023-3-13', 'Rp15,416'),\n",
       " ('2023-3-14', 'Rp15,380'),\n",
       " ('2023-3-15', 'Rp15,459'),\n",
       " ('2023-3-16', 'Rp15,429'),\n",
       " ('2023-3-17', 'Rp15,375'),\n",
       " ('2023-3-20', 'Rp15,343'),\n",
       " ('2023-3-21', 'Rp15,301'),\n",
       " ('2023-3-22', 'Rp15,253'),\n",
       " ('2023-3-23', 'Rp15,085'),\n",
       " ('2023-3-24', 'Rp15,165'),\n",
       " ('2023-3-27', 'Rp15,107'),\n",
       " ('2023-3-28', 'Rp15,060'),\n",
       " ('2023-3-29', 'Rp15,034'),\n",
       " ('2023-3-30', 'Rp15,024'),\n",
       " ('2023-3-31', 'Rp14,969'),\n",
       " ('2023-4-3', 'Rp14,922'),\n",
       " ('2023-4-4', 'Rp14,957'),\n",
       " ('2023-4-5', 'Rp14,960'),\n",
       " ('2023-4-6', 'Rp14,931'),\n",
       " ('2023-4-7', 'Rp14,941'),\n",
       " ('2023-4-10', 'Rp14,950'),\n",
       " ('2023-4-11', 'Rp14,915')]"
      ]
     },
     "execution_count": 14,
     "metadata": {},
     "output_type": "execute_result"
    }
   ],
   "source": [
    "temp"
   ]
  },
  {
   "cell_type": "markdown",
   "metadata": {},
   "source": [
    "## D. Creating data frame & Data wrangling"
   ]
  },
  {
   "cell_type": "markdown",
   "metadata": {},
   "source": [
    "**CREATING DATA FRAME**"
   ]
  },
  {
   "cell_type": "markdown",
   "metadata": {},
   "source": [
    "Data hasil scraping masih dalam bentuk array, sehingga perlu menyimpannya dalam bentuk data frame agar mudah untuk dianalisis."
   ]
  },
  {
   "cell_type": "code",
   "execution_count": 15,
   "metadata": {
    "ExecuteTime": {
     "end_time": "2020-01-13T05:12:41.517372Z",
     "start_time": "2020-01-13T05:12:29.130015Z"
    }
   },
   "outputs": [
    {
     "data": {
      "text/html": [
       "<div>\n",
       "<style scoped>\n",
       "    .dataframe tbody tr th:only-of-type {\n",
       "        vertical-align: middle;\n",
       "    }\n",
       "\n",
       "    .dataframe tbody tr th {\n",
       "        vertical-align: top;\n",
       "    }\n",
       "\n",
       "    .dataframe thead th {\n",
       "        text-align: right;\n",
       "    }\n",
       "</style>\n",
       "<table border=\"1\" class=\"dataframe\">\n",
       "  <thead>\n",
       "    <tr style=\"text-align: right;\">\n",
       "      <th></th>\n",
       "      <th>date</th>\n",
       "      <th>rupiah</th>\n",
       "    </tr>\n",
       "  </thead>\n",
       "  <tbody>\n",
       "    <tr>\n",
       "      <th>0</th>\n",
       "      <td>2022-10-13</td>\n",
       "      <td>Rp15,372</td>\n",
       "    </tr>\n",
       "    <tr>\n",
       "      <th>1</th>\n",
       "      <td>2022-10-14</td>\n",
       "      <td>Rp15,472</td>\n",
       "    </tr>\n",
       "    <tr>\n",
       "      <th>2</th>\n",
       "      <td>2022-10-17</td>\n",
       "      <td>Rp15,441</td>\n",
       "    </tr>\n",
       "    <tr>\n",
       "      <th>3</th>\n",
       "      <td>2022-10-18</td>\n",
       "      <td>Rp15,474</td>\n",
       "    </tr>\n",
       "    <tr>\n",
       "      <th>4</th>\n",
       "      <td>2022-10-19</td>\n",
       "      <td>Rp15,587</td>\n",
       "    </tr>\n",
       "  </tbody>\n",
       "</table>\n",
       "</div>"
      ],
      "text/plain": [
       "         date    rupiah\n",
       "0  2022-10-13  Rp15,372\n",
       "1  2022-10-14  Rp15,472\n",
       "2  2022-10-17  Rp15,441\n",
       "3  2022-10-18  Rp15,474\n",
       "4  2022-10-19  Rp15,587"
      ]
     },
     "execution_count": 15,
     "metadata": {},
     "output_type": "execute_result"
    }
   ],
   "source": [
    "import pandas as pd\n",
    "\n",
    "df = pd.DataFrame(temp, columns = ('date','rupiah'))\n",
    "df.head()"
   ]
  },
  {
   "cell_type": "markdown",
   "metadata": {},
   "source": [
    "**DATA WRANGLING** "
   ]
  },
  {
   "cell_type": "code",
   "execution_count": 16,
   "metadata": {},
   "outputs": [
    {
     "data": {
      "text/plain": [
       "date      object\n",
       "rupiah    object\n",
       "dtype: object"
      ]
     },
     "execution_count": 16,
     "metadata": {},
     "output_type": "execute_result"
    }
   ],
   "source": [
    "df.dtypes"
   ]
  },
  {
   "cell_type": "markdown",
   "metadata": {},
   "source": [
    "Tipe data yang tertera belum sesuai dengan yang seharusnya. oleh karenanya perlu diubah, dimana kolom `date` berupa tipe `datetime64`. Sedangkan kolom `rupiah` berupa `float64`. Namun, sebelum mengubah tipe data pada kolom `rupiah`, perlu menghilangkan beberapa karakter yang ada, yaitu huruf **Rp** dan tanda baca koma **(,)**. "
   ]
  },
  {
   "cell_type": "code",
   "execution_count": 17,
   "metadata": {},
   "outputs": [],
   "source": [
    "df['date']=df['date'].astype('datetime64')\n",
    "df['rupiah']=df['rupiah'].str.lstrip('Rp').str.replace(',','')\n",
    "df['rupiah']=df['rupiah'].astype('float64')\n"
   ]
  },
  {
   "cell_type": "code",
   "execution_count": 18,
   "metadata": {},
   "outputs": [
    {
     "data": {
      "text/html": [
       "<div>\n",
       "<style scoped>\n",
       "    .dataframe tbody tr th:only-of-type {\n",
       "        vertical-align: middle;\n",
       "    }\n",
       "\n",
       "    .dataframe tbody tr th {\n",
       "        vertical-align: top;\n",
       "    }\n",
       "\n",
       "    .dataframe thead th {\n",
       "        text-align: right;\n",
       "    }\n",
       "</style>\n",
       "<table border=\"1\" class=\"dataframe\">\n",
       "  <thead>\n",
       "    <tr style=\"text-align: right;\">\n",
       "      <th></th>\n",
       "      <th>date</th>\n",
       "      <th>rupiah</th>\n",
       "    </tr>\n",
       "  </thead>\n",
       "  <tbody>\n",
       "    <tr>\n",
       "      <th>0</th>\n",
       "      <td>2022-10-13</td>\n",
       "      <td>15372.0</td>\n",
       "    </tr>\n",
       "    <tr>\n",
       "      <th>1</th>\n",
       "      <td>2022-10-14</td>\n",
       "      <td>15472.0</td>\n",
       "    </tr>\n",
       "    <tr>\n",
       "      <th>2</th>\n",
       "      <td>2022-10-17</td>\n",
       "      <td>15441.0</td>\n",
       "    </tr>\n",
       "    <tr>\n",
       "      <th>3</th>\n",
       "      <td>2022-10-18</td>\n",
       "      <td>15474.0</td>\n",
       "    </tr>\n",
       "    <tr>\n",
       "      <th>4</th>\n",
       "      <td>2022-10-19</td>\n",
       "      <td>15587.0</td>\n",
       "    </tr>\n",
       "    <tr>\n",
       "      <th>...</th>\n",
       "      <td>...</td>\n",
       "      <td>...</td>\n",
       "    </tr>\n",
       "    <tr>\n",
       "      <th>124</th>\n",
       "      <td>2023-04-05</td>\n",
       "      <td>14960.0</td>\n",
       "    </tr>\n",
       "    <tr>\n",
       "      <th>125</th>\n",
       "      <td>2023-04-06</td>\n",
       "      <td>14931.0</td>\n",
       "    </tr>\n",
       "    <tr>\n",
       "      <th>126</th>\n",
       "      <td>2023-04-07</td>\n",
       "      <td>14941.0</td>\n",
       "    </tr>\n",
       "    <tr>\n",
       "      <th>127</th>\n",
       "      <td>2023-04-10</td>\n",
       "      <td>14950.0</td>\n",
       "    </tr>\n",
       "    <tr>\n",
       "      <th>128</th>\n",
       "      <td>2023-04-11</td>\n",
       "      <td>14915.0</td>\n",
       "    </tr>\n",
       "  </tbody>\n",
       "</table>\n",
       "<p>129 rows × 2 columns</p>\n",
       "</div>"
      ],
      "text/plain": [
       "          date   rupiah\n",
       "0   2022-10-13  15372.0\n",
       "1   2022-10-14  15472.0\n",
       "2   2022-10-17  15441.0\n",
       "3   2022-10-18  15474.0\n",
       "4   2022-10-19  15587.0\n",
       "..         ...      ...\n",
       "124 2023-04-05  14960.0\n",
       "125 2023-04-06  14931.0\n",
       "126 2023-04-07  14941.0\n",
       "127 2023-04-10  14950.0\n",
       "128 2023-04-11  14915.0\n",
       "\n",
       "[129 rows x 2 columns]"
      ]
     },
     "execution_count": 18,
     "metadata": {},
     "output_type": "execute_result"
    }
   ],
   "source": [
    "df"
   ]
  },
  {
   "cell_type": "markdown",
   "metadata": {},
   "source": [
    "Karena akan dilakukan visualisasi data. maka perlu mengatur index dari data frame yang telah dibuat."
   ]
  },
  {
   "cell_type": "code",
   "execution_count": 19,
   "metadata": {},
   "outputs": [],
   "source": [
    "df=df.set_index('date')"
   ]
  },
  {
   "cell_type": "markdown",
   "metadata": {},
   "source": [
    "### Implementing your webscrapping to the flask dashboard\n",
    "\n",
    "- Copy paste all of your web scrapping process to the desired position on the `app.py`\n",
    "- Changing the title of the dasboard at `index.html`"
   ]
  },
  {
   "cell_type": "markdown",
   "metadata": {},
   "source": [
    "## E. Finishing This Notebook with Your Analysis and Conclusion\n",
    "\n",
    "**making the data visualisation**"
   ]
  },
  {
   "cell_type": "code",
   "execution_count": 27,
   "metadata": {
    "ExecuteTime": {
     "end_time": "2020-01-13T05:20:56.208237Z",
     "start_time": "2020-01-13T05:20:56.076043Z"
    }
   },
   "outputs": [
    {
     "data": {
      "text/plain": [
       "<AxesSubplot:title={'center':'USD to IDR Daily'}, xlabel='date', ylabel='Price in IDR'>"
      ]
     },
     "execution_count": 27,
     "metadata": {},
     "output_type": "execute_result"
    },
    {
     "data": {
      "image/png": "[encoded data removed]",
      "text/plain": [
       "<Figure size 640x480 with 1 Axes>"
      ]
     },
     "metadata": {},
     "output_type": "display_data"
    }
   ],
   "source": [
    "df.plot(legend = False,\n",
    "       ylabel = 'Price in IDR',\n",
    "       title = 'USD to IDR Daily'\n",
    "       )"
   ]
  },
  {
   "cell_type": "markdown",
   "metadata": {},
   "source": [
    "**Conclusion**\n",
    "\n",
    "Berdasarkan plot data yang telah dibuat dapat ditarik beberapa kesimpulan, diantaranya.\n",
    "1. Selama 6 bulan terakhir. Dolar berada dalam rentang sekitar Rp14.900 hingga Rp15.800.\n",
    "2. Dolar mengalami uptrend pada periode Februari-Maret dan mengalami downtrend pada periode Januari-Februari dan Maret-April. Sedangkan pada periode November-Januari mengalami sideways.\n",
    "3. Harga dollar terendah terjadi pada awal bulan Februari selama 6 bulan terakhir ini.\n",
    "4. Harga dollar tertinggi terjadi pada awal bulan November 2022 dan Januari 2023 dalam rentang 6 bulan terakhir. "
   ]
  },
  {
   "cell_type": "markdown",
   "metadata": {},
   "source": [
    "### Implement it at the webapps\n",
    "\n",
    "- You can create additional analysis from the data.\n",
    "- Implement it to the dashboard with at `app.py` dan `index.html`."
   ]
  }
 ],
 "metadata": {
  "kernelspec": {
   "display_name": "capstone_vulcan",
   "language": "python",
   "name": "capstone_vulcan"
  },
  "language_info": {
   "codemirror_mode": {
    "name": "ipython",
    "version": 3
   },
   "file_extension": ".py",
   "mimetype": "text/x-python",
   "name": "python",
   "nbconvert_exporter": "python",
   "pygments_lexer": "ipython3",
   "version": "3.10.10"
  }
 },
 "nbformat": 4,
 "nbformat_minor": 2
}
